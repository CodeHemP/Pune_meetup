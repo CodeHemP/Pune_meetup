{
 "cells": [
  {
   "cell_type": "markdown",
   "metadata": {},
   "source": [
    "# Sentiment Analysis ML approach"
   ]
  },
  {
   "cell_type": "markdown",
   "metadata": {},
   "source": [
    "### Import dependancies"
   ]
  },
  {
   "cell_type": "code",
   "execution_count": 1,
   "metadata": {},
   "outputs": [],
   "source": [
    "import os\n",
    "import time\n",
    "from __future__ import print_function\n",
    "from sklearn.feature_extraction.text import TfidfVectorizer\n",
    "from sklearn.naive_bayes import MultinomialNB\n",
    "from sklearn import svm\n",
    "from sklearn.metrics import classification_report\n",
    "from sklearn.metrics import accuracy_score\n",
    "\n",
    "#%config IPCompleter.greedy=True"
   ]
  },
  {
   "cell_type": "markdown",
   "metadata": {},
   "source": [
    "### Build training dataset and testing dataset"
   ]
  },
  {
   "cell_type": "code",
   "execution_count": 2,
   "metadata": {},
   "outputs": [],
   "source": [
    "data_dir = \"./data\"\n",
    "classes = ['positiveReviews', 'negativeReviews']\n",
    "\n",
    "# Read the data\n",
    "train_data = []\n",
    "train_labels = []\n",
    "test_data = []\n",
    "test_labels = []\n",
    "for curr_class in classes:\n",
    "    dirname = os.path.join(data_dir, curr_class)\n",
    "    for fname in os.listdir(dirname):\n",
    "        with open(os.path.join(dirname, fname), 'r') as f:\n",
    "            content = f.read()\n",
    "            if fname.startswith('12'):\n",
    "                test_data.append(content)\n",
    "                test_labels.append(curr_class)\n",
    "            else:\n",
    "                train_data.append(content)\n",
    "                train_labels.append(curr_class)\n",
    "                \n"
   ]
  },
  {
   "cell_type": "markdown",
   "metadata": {},
   "source": [
    "### Geberate feature vector by using TfidfVectorizer"
   ]
  },
  {
   "cell_type": "code",
   "execution_count": 3,
   "metadata": {},
   "outputs": [],
   "source": [
    "# Create feature vectors\n",
    "vectorizer = TfidfVectorizer(min_df=5,\n",
    "                                 max_df = 0.8,\n",
    "                                 sublinear_tf=True,\n",
    "                                 use_idf=True)\n",
    "train_vectors = vectorizer.fit_transform(train_data)\n",
    "test_vectors = vectorizer.transform(test_data)\n"
   ]
  },
  {
   "cell_type": "markdown",
   "metadata": {},
   "source": [
    "### Perfrom training using different ML algos"
   ]
  },
  {
   "cell_type": "code",
   "execution_count": 4,
   "metadata": {},
   "outputs": [],
   "source": [
    "# Perform classification with MultinomialNB\n",
    "clf = MultinomialNB()\n",
    "clf.fit(train_vectors, train_labels)\n",
    "prediction = clf.predict(test_vectors)\n",
    "\n",
    "# Perform classification with SVM, kernel=rbf\n",
    "classifier_rbf = svm.SVC()\n",
    "classifier_rbf.fit(train_vectors, train_labels)\n",
    "prediction_rbf = classifier_rbf.predict(test_vectors)\n",
    "    \n",
    "# Perform classification with SVM, kernel=linear\n",
    "classifier_linear = svm.SVC(kernel='linear')\n",
    "classifier_linear.fit(train_vectors, train_labels)\n",
    "prediction_linear = classifier_linear.predict(test_vectors)\n",
    "  \n",
    "# Perform classification with SVM, kernel=linear\n",
    "classifier_liblinear = svm.LinearSVC()\n",
    "classifier_liblinear.fit(train_vectors, train_labels)\n",
    "prediction_liblinear = classifier_liblinear.predict(test_vectors)"
   ]
  },
  {
   "cell_type": "markdown",
   "metadata": {},
   "source": [
    "### Test the result of MultinomialNB"
   ]
  },
  {
   "cell_type": "code",
   "execution_count": 9,
   "metadata": {},
   "outputs": [
    {
     "name": "stdout",
     "output_type": "stream",
     "text": [
      "\n",
      "Results for NaiveBayes (MultinomialNB) \n",
      "                 precision    recall  f1-score   support\n",
      "\n",
      "negativeReviews       0.79      0.87      0.82       611\n",
      "positiveReviews       0.85      0.77      0.81       611\n",
      "\n",
      "    avg / total       0.82      0.82      0.82      1222\n",
      "\n",
      "Accuracy of Naive Bayes Algorithm:0.8158756137479541\n",
      "\n",
      "\n",
      "\n",
      "\n",
      "Reviews Prediction\n",
      "\n",
      "Predicted label is------> positiveReviews\n",
      "\n",
      "Movie Review is ------> \n",
      "In a lot of his films (Citizen Kane, Confidential Report, Touch of evil) Orson Welles gave him the role of an exuberant men. In \"The Lady from Shanghai\" it's the only time I see him holding the role of the victim. The role of the culprit, he gave it to Rita Hayworth, I guess it's because he was in love with her. Therefore, it's an interesting film. But I find the story excellent too. The direction is genius, as usual with Welles : two scenes are particularly brilliant: the one in the aquarium and the final one with the mirrors. This film is brilliant.(10/10)\n"
     ]
    }
   ],
   "source": [
    "# Print results in a nice table for MultinomialNB\n",
    "print(\"\\nResults for NaiveBayes (MultinomialNB) \")\n",
    "print(classification_report(test_labels, prediction))\n",
    "print (\"Accuracy of Naive Bayes Algorithm:\" + str(accuracy_score(test_labels, prediction)))\n",
    "\n",
    "print(\"\\n\\n\\n\")\n",
    "print (\"Reviews Prediction\")\n",
    "print (\"\\nPredicted label is------> \"+prediction[10] )\n",
    "print (\"\\nMovie Review is ------> \\n\"+test_data[10])"
   ]
  },
  {
   "cell_type": "markdown",
   "metadata": {},
   "source": [
    "### Test the result of SVM with rbf kernal"
   ]
  },
  {
   "cell_type": "code",
   "execution_count": 11,
   "metadata": {},
   "outputs": [
    {
     "name": "stdout",
     "output_type": "stream",
     "text": [
      "\n",
      "Results for SVM algorithm with rbf kernel\n",
      "                 precision    recall  f1-score   support\n",
      "\n",
      "negativeReviews       0.98      0.31      0.48       611\n",
      "positiveReviews       0.59      1.00      0.74       611\n",
      "\n",
      "    avg / total       0.79      0.65      0.61      1222\n",
      "\n",
      "Accuracy of SVM algorithm with rbf kernel:0.6546644844517185\n",
      "\n",
      "\n",
      "\n",
      "\n",
      "Reviews Prediction\n",
      "\n",
      "Predicted label is------> positiveReviews\n",
      "\n",
      "Movie Review is ------> \n",
      "In a lot of his films (Citizen Kane, Confidential Report, Touch of evil) Orson Welles gave him the role of an exuberant men. In \"The Lady from Shanghai\" it's the only time I see him holding the role of the victim. The role of the culprit, he gave it to Rita Hayworth, I guess it's because he was in love with her. Therefore, it's an interesting film. But I find the story excellent too. The direction is genius, as usual with Welles : two scenes are particularly brilliant: the one in the aquarium and the final one with the mirrors. This film is brilliant.(10/10)\n"
     ]
    }
   ],
   "source": [
    "# Print results in a nice table for SVM algorithm with rbf kernal\n",
    "print(\"\\nResults for SVM algorithm with rbf kernel\")\n",
    "print(classification_report(test_labels, prediction_rbf))\n",
    "print (\"Accuracy of SVM algorithm with rbf kernel:\" + str(accuracy_score(test_labels, prediction_rbf)))\n",
    "\n",
    "print(\"\\n\\n\\n\")\n",
    "print (\"Reviews Prediction\")\n",
    "print (\"\\nPredicted label is------> \"+prediction[10] )\n",
    "print (\"\\nMovie Review is ------> \\n\"+test_data[10])"
   ]
  },
  {
   "cell_type": "markdown",
   "metadata": {},
   "source": [
    "### Test the result of SVM with linear kernal"
   ]
  },
  {
   "cell_type": "code",
   "execution_count": 12,
   "metadata": {},
   "outputs": [
    {
     "name": "stdout",
     "output_type": "stream",
     "text": [
      "\n",
      "Results for SVM algorithm with linear kernel\n",
      "                 precision    recall  f1-score   support\n",
      "\n",
      "negativeReviews       0.82      0.86      0.84       611\n",
      "positiveReviews       0.85      0.81      0.83       611\n",
      "\n",
      "    avg / total       0.84      0.84      0.84      1222\n",
      "\n",
      "Accuracy of SVM algorithm with rbf kernel:0.8363338788870703\n",
      "\n",
      "\n",
      "\n",
      "\n",
      "Reviews Prediction\n",
      "\n",
      "Predicted label is------> positiveReviews\n",
      "\n",
      "Movie Review is ------> \n",
      "In a lot of his films (Citizen Kane, Confidential Report, Touch of evil) Orson Welles gave him the role of an exuberant men. In \"The Lady from Shanghai\" it's the only time I see him holding the role of the victim. The role of the culprit, he gave it to Rita Hayworth, I guess it's because he was in love with her. Therefore, it's an interesting film. But I find the story excellent too. The direction is genius, as usual with Welles : two scenes are particularly brilliant: the one in the aquarium and the final one with the mirrors. This film is brilliant.(10/10)\n"
     ]
    }
   ],
   "source": [
    "# Print results in a nice table for SVM algorithm with linear kernal\n",
    "print(\"\\nResults for SVM algorithm with linear kernel\")\n",
    "print(classification_report(test_labels, prediction_linear))\n",
    "print (\"Accuracy of SVM algorithm with rbf kernel:\" + str(accuracy_score(test_labels, prediction_linear)))\n",
    "\n",
    "print(\"\\n\\n\\n\")\n",
    "print (\"Reviews Prediction\")\n",
    "print (\"\\nPredicted label is------> \"+prediction[10] )\n",
    "print (\"\\nMovie Review is ------> \\n\"+test_data[10])"
   ]
  },
  {
   "cell_type": "markdown",
   "metadata": {},
   "source": [
    "### Test the result of SVM with linearSVC"
   ]
  },
  {
   "cell_type": "code",
   "execution_count": 13,
   "metadata": {},
   "outputs": [
    {
     "name": "stdout",
     "output_type": "stream",
     "text": [
      "\n",
      "Results for SVM algorithm with liblinear kernel\n",
      "                 precision    recall  f1-score   support\n",
      "\n",
      "negativeReviews       0.82      0.86      0.84       611\n",
      "positiveReviews       0.85      0.81      0.83       611\n",
      "\n",
      "    avg / total       0.84      0.84      0.84      1222\n",
      "\n",
      "Accuracy of SVM algorithm with rbf kernel:0.8363338788870703\n",
      "\n",
      "\n",
      "\n",
      "\n",
      "Reviews Prediction\n",
      "\n",
      "Predicted label is------> positiveReviews\n",
      "\n",
      "Movie Review is ------> \n",
      "In a lot of his films (Citizen Kane, Confidential Report, Touch of evil) Orson Welles gave him the role of an exuberant men. In \"The Lady from Shanghai\" it's the only time I see him holding the role of the victim. The role of the culprit, he gave it to Rita Hayworth, I guess it's because he was in love with her. Therefore, it's an interesting film. But I find the story excellent too. The direction is genius, as usual with Welles : two scenes are particularly brilliant: the one in the aquarium and the final one with the mirrors. This film is brilliant.(10/10)\n"
     ]
    }
   ],
   "source": [
    "# Print results in a nice table for SVM algorithm with liblinear kernal\n",
    "print(\"\\nResults for SVM algorithm with liblinear kernel\")\n",
    "print(classification_report(test_labels, prediction_liblinear))\n",
    "print (\"Accuracy of SVM algorithm with rbf kernel:\" + str(accuracy_score(test_labels, prediction_liblinear)))\n",
    "\n",
    "print(\"\\n\\n\\n\")\n",
    "print (\"Reviews Prediction\")\n",
    "print (\"\\nPredicted label is------> \"+prediction[10] )\n",
    "print (\"\\nMovie Review is ------> \\n\"+test_data[10])"
   ]
  },
  {
   "cell_type": "code",
   "execution_count": null,
   "metadata": {},
   "outputs": [],
   "source": []
  }
 ],
 "metadata": {
  "kernelspec": {
   "display_name": "Python 3",
   "language": "python",
   "name": "python3"
  },
  "language_info": {
   "codemirror_mode": {
    "name": "ipython",
    "version": 3
   },
   "file_extension": ".py",
   "mimetype": "text/x-python",
   "name": "python",
   "nbconvert_exporter": "python",
   "pygments_lexer": "ipython3",
   "version": "3.5.2"
  }
 },
 "nbformat": 4,
 "nbformat_minor": 2
}
