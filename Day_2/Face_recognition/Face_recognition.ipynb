{
 "cells": [
  {
   "cell_type": "code",
   "execution_count": null,
   "metadata": {},
   "outputs": [],
   "source": []
  },
  {
   "cell_type": "markdown",
   "metadata": {},
   "source": [
    "# Let's recognize the faces...!"
   ]
  },
  {
   "cell_type": "markdown",
   "metadata": {},
   "source": [
    "```\n",
    "Example 1: Identify the faces present in image \n",
    "           \n",
    "           Step 1: Import Dependencies\n",
    "           \n",
    "           Step 2: Load Image\n",
    "           \n",
    "           Step 3: Detect how many faces are there in image\n",
    "           \n",
    "           Step 4: Extract faces from the image\n",
    "\n",
    "\n",
    "Example 2: Identify the faces in real-time\n",
    "\n",
    "           Step 1: Import dependencies\n",
    "           \n",
    "           Step 2: Load Images and build the face encoding\n",
    "           \n",
    "           Step 3: Load face encoding\n",
    "           \n",
    "           Step 4: Actual Logic for identify the faces\n",
    "           \n",
    "           Step 5: Display result\n",
    "\n",
    "```"
   ]
  },
  {
   "cell_type": "markdown",
   "metadata": {},
   "source": [
    "## Identify the faces present in image"
   ]
  },
  {
   "cell_type": "markdown",
   "metadata": {},
   "source": [
    "### Import Dependencies"
   ]
  },
  {
   "cell_type": "code",
   "execution_count": 5,
   "metadata": {},
   "outputs": [],
   "source": [
    "from PIL import Image\n",
    "import face_recognition"
   ]
  },
  {
   "cell_type": "markdown",
   "metadata": {},
   "source": [
    "### Load Image"
   ]
  },
  {
   "cell_type": "code",
   "execution_count": 6,
   "metadata": {},
   "outputs": [],
   "source": [
    "# Load the jpg file into a numpy array\n",
    "#image = face_recognition.load_image_file(\"./img/1.jpg\")\n",
    "#image = face_recognition.load_image_file(\"./img/2.png\")\n",
    "#image = face_recognition.load_image_file(\"./img/biden.jpg\")\n",
    "image = face_recognition.load_image_file(\"./img/3.jpg\")"
   ]
  },
  {
   "cell_type": "markdown",
   "metadata": {},
   "source": [
    "### Detect how many faces are there in image"
   ]
  },
  {
   "cell_type": "code",
   "execution_count": 7,
   "metadata": {},
   "outputs": [
    {
     "name": "stdout",
     "output_type": "stream",
     "text": [
      "I found 3 face(s) in this photograph.\n"
     ]
    }
   ],
   "source": [
    "# Find all the faces in the image using the default HOG-based model.\n",
    "# This method is fairly accurate, but not as accurate as the CNN model and not GPU accelerated.\n",
    "# See also: find_faces_in_picture_cnn.py\n",
    "face_locations = face_recognition.face_locations(image)\n",
    "\n",
    "print(\"I found {} face(s) in this photograph.\".format(len(face_locations)))\n",
    "\n"
   ]
  },
  {
   "cell_type": "markdown",
   "metadata": {},
   "source": [
    "### Extract faces from the image"
   ]
  },
  {
   "cell_type": "code",
   "execution_count": 8,
   "metadata": {},
   "outputs": [
    {
     "name": "stdout",
     "output_type": "stream",
     "text": [
      "A face is located at pixel location Top: 242, Left: 92, Bottom: 464, Right: 315\n",
      "A face is located at pixel location Top: 242, Left: 662, Bottom: 464, Right: 885\n",
      "A face is located at pixel location Top: 171, Left: 1241, Bottom: 439, Right: 1508\n"
     ]
    }
   ],
   "source": [
    "for face_location in face_locations:\n",
    "\n",
    "    # Print the location of each face in this image\n",
    "    top, right, bottom, left = face_location\n",
    "    print(\"A face is located at pixel location Top: {}, Left: {}, Bottom: {}, Right: {}\".format(top, left, bottom, right))\n",
    "\n",
    "    # You can access the actual face itself like this:\n",
    "    face_image = image[top:bottom, left:right]\n",
    "    pil_image = Image.fromarray(face_image)\n",
    "    pil_image.show()"
   ]
  }
 ],
 "metadata": {
  "kernelspec": {
   "display_name": "Python 3",
   "language": "python",
   "name": "python3"
  },
  "language_info": {
   "codemirror_mode": {
    "name": "ipython",
    "version": 3
   },
   "file_extension": ".py",
   "mimetype": "text/x-python",
   "name": "python",
   "nbconvert_exporter": "python",
   "pygments_lexer": "ipython3",
   "version": "3.5.2"
  }
 },
 "nbformat": 4,
 "nbformat_minor": 2
}
